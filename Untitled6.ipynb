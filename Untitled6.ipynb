{
 "cells": [
  {
   "cell_type": "code",
   "execution_count": 1,
   "id": "1291eb12",
   "metadata": {},
   "outputs": [],
   "source": [
    "import random"
   ]
  },
  {
   "cell_type": "code",
   "execution_count": null,
   "id": "61ce5b19",
   "metadata": {},
   "outputs": [],
   "source": [
    " print(random.randint(3,6))"
   ]
  },
  {
   "cell_type": "code",
   "execution_count": null,
   "id": "20aa7ce3",
   "metadata": {},
   "outputs": [],
   "source": [
    "import random\n",
    " \n",
    "# generate a random letter in the range x - y\n",
    "def randletter(x, y):\n",
    "    return chr(random.randint(ord(x), ord(y)))\n",
    " \n",
    "if __name__ == '__main__':\n",
    " \n",
    "    # generate a random letter in the range `a-z`\n",
    "    r = randletter('a','c')\n",
    " \n",
    "    # generate a random letter in the range `A-Z`\n",
    "    R = randletter('A', 'C')\n",
    " \n",
    "    # randomly pick the letter `r` or `R`\n",
    "    rand = (r,R)[random.randint(0,1)]\n",
    "    print(rand)"
   ]
  },
  {
   "cell_type": "code",
   "execution_count": null,
   "id": "42716625",
   "metadata": {},
   "outputs": [],
   "source": []
  },
  {
   "cell_type": "code",
   "execution_count": null,
   "id": "caa9e0a4",
   "metadata": {},
   "outputs": [],
   "source": []
  }
 ],
 "metadata": {
  "kernelspec": {
   "display_name": "Python 3 (ipykernel)",
   "language": "python",
   "name": "python3"
  },
  "language_info": {
   "codemirror_mode": {
    "name": "ipython",
    "version": 3
   },
   "file_extension": ".py",
   "mimetype": "text/x-python",
   "name": "python",
   "nbconvert_exporter": "python",
   "pygments_lexer": "ipython3",
   "version": "3.9.12"
  }
 },
 "nbformat": 4,
 "nbformat_minor": 5
}
